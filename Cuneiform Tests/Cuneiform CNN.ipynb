{
 "cells": [
  {
   "cell_type": "markdown",
   "metadata": {},
   "source": [
    "# Working with the MaiCuBeDa database\n",
    "https://heidata.uni-heidelberg.de/dataset.xhtml?persistentId=doi:10.11588/data/QSNIQ2&version=1.0\n",
    "\n",
    "- Holds W3C annotations of renderings of 3D models of cuneiform tablets extracted from HeiCuBeDa, including cropped images representing areas per annotation\n",
    "- The database creators used only those transliterations for sourcing they deemed reliable as and that were present in the renderings, rather than reconstructed from existing context\n",
    "- The annotation process underwent multiple different consistency tests\n",
    "\n",
    "## Structure:\n",
    "Two different source folders, one “Mixed”, the other “MSII” and each source contains subfolders:\n",
    "- char\n",
    "- charannotations\n",
    "- croppoly_char\n",
    "- croppoly_wedge\n",
    "- line\n",
    "- lineannotations\n",
    "- wedge\n",
    "- word\n",
    "- wordannotations\n",
    "\n",
    "| ID | Filename | CDLI_Number | IRI | HeidIcon | Time_period | Language | side | bbox | column | line | charindex | charname | transliteration |\n",
    "|-------|-------|-------|-------|-------|-------|-------|-------|-------|-------|-------|-------|-------|-------|\n",
    "| ... | ... | ... | ... | ... | ... | ... | ... | ... | ... | ... | ... | ... | ... |\n",
    "\n",
    "Important here are\n",
    "| Filename | ... | transliteration |\n",
    "|-------|-------|-------|\n",
    "| 1_3(disz)_1_1_1_2_HS_1137_06_back.jpg | ... | 1/3(disz) |\n",
    "\n",
    "(TRANS/)_TRANSLITERATION_UNKNOWN_COLUMN_LINE_CHARINDEX_TABLETNAME_SURFACE\n",
    "\n",
    "Problem: some rows in column “transliteration” contained delimiter “;” between transliteration signs —> inconsistent columns when creating dataframe\n",
    "- had to open CSV file in excel to insert  “transliteration_2” which automatically\n",
    "\tadds “;” at end of normal rows but groups those with false delimiter in new col\n",
    "- File now parseable\n",
    "- Added HeidIcon as Column name for proper indexing\n",
    "\n",
    "The images in folder char are named in this schema:\n",
    "| TRANSLITERATION_COLUMN_LINE_CHARINDEX_TABLETNAME_SURFACE |\n",
    "|-------|\n",
    "|  1_3(disz)_1_1_2_HS_1137_06_back.png |\n",
    "\n",
    "Note that the transliteration 1/3(disz) is part of the image name but uses the seperator \"_\" instead of \"/\"\n",
    "and that the names "
   ]
  },
  {
   "cell_type": "code",
   "execution_count": 1,
   "metadata": {},
   "outputs": [
    {
     "name": "stdout",
     "output_type": "stream",
     "text": [
      "/Users/Uni/Documents/Uni/Thesis/Cuneiform Tests/MaiCuBeDa/MaiCuBeDa_Annotations_MSII/char\n"
     ]
    }
   ],
   "source": [
    "import os\n",
    "# describe the structure of project folders:\n",
    "\n",
    "parent_dir = os.path.abspath(os.path.join(os.getcwd(), os.pardir))\n",
    "image_folder = os.path.join(parent_dir, \"Cuneiform Tests\", \"MaiCuBeDa\", \"MaiCuBeDa_Annotations_MSII\",\"char\")\n",
    "\n",
    "print(image_folder)"
   ]
  },
  {
   "cell_type": "markdown",
   "metadata": {},
   "source": [
    "#### Dataframe Creation - Markdown\n",
    "(And removing whitespace from col names)"
   ]
  },
  {
   "cell_type": "code",
   "execution_count": 2,
   "metadata": {},
   "outputs": [
    {
     "data": {
      "text/html": [
       "<div>\n",
       "<style scoped>\n",
       "    .dataframe tbody tr th:only-of-type {\n",
       "        vertical-align: middle;\n",
       "    }\n",
       "\n",
       "    .dataframe tbody tr th {\n",
       "        vertical-align: top;\n",
       "    }\n",
       "\n",
       "    .dataframe thead th {\n",
       "        text-align: right;\n",
       "    }\n",
       "</style>\n",
       "<table border=\"1\" class=\"dataframe\">\n",
       "  <thead>\n",
       "    <tr style=\"text-align: right;\">\n",
       "      <th></th>\n",
       "      <th>ID</th>\n",
       "      <th>Filename</th>\n",
       "      <th>CDLI_Number</th>\n",
       "      <th>IRI</th>\n",
       "      <th>HeidIcon</th>\n",
       "      <th>Time_period</th>\n",
       "      <th>Language</th>\n",
       "      <th>Genre</th>\n",
       "      <th>side</th>\n",
       "      <th>bbox</th>\n",
       "      <th>column</th>\n",
       "      <th>line</th>\n",
       "      <th>charindex</th>\n",
       "      <th>charname</th>\n",
       "      <th>transliteration</th>\n",
       "      <th>transliteration_2</th>\n",
       "    </tr>\n",
       "  </thead>\n",
       "  <tbody>\n",
       "    <tr>\n",
       "      <th>0</th>\n",
       "      <td>HS_1137_06</td>\n",
       "      <td>1_3(disz)_1_1_1_2_HS_1137_06_back.jpg</td>\n",
       "      <td>P134449</td>\n",
       "      <td>http://cdli.ucla.edu/P134449_back_char_1_2</td>\n",
       "      <td>https://heidicon.ub.uni-heidelberg.de/iiif/2/1...</td>\n",
       "      <td>Ur III (ca. 2100-2000 BC)</td>\n",
       "      <td>Sumerian</td>\n",
       "      <td>Administrative</td>\n",
       "      <td>back</td>\n",
       "      <td>[155, 279, 23, 111]</td>\n",
       "      <td>-1</td>\n",
       "      <td>1</td>\n",
       "      <td>2</td>\n",
       "      <td>SZUSZANA_(13)                                 ...</td>\n",
       "      <td>1/3(disz)</td>\n",
       "      <td>NaN</td>\n",
       "    </tr>\n",
       "  </tbody>\n",
       "</table>\n",
       "</div>"
      ],
      "text/plain": [
       "            ID                                     Filename   CDLI_Number  \\\n",
       "0  HS_1137_06   1_3(disz)_1_1_1_2_HS_1137_06_back.jpg        P134449        \n",
       "\n",
       "                                              IRI  \\\n",
       "0  http://cdli.ucla.edu/P134449_back_char_1_2       \n",
       "\n",
       "                                            HeidIcon  \\\n",
       "0  https://heidicon.ub.uni-heidelberg.de/iiif/2/1...   \n",
       "\n",
       "                                Time_period   Language                Genre  \\\n",
       "0  Ur III (ca. 2100-2000 BC)                 Sumerian   Administrative        \n",
       "\n",
       "                      side                       bbox  \\\n",
       "0  back                     [155, 279, 23, 111]         \n",
       "\n",
       "                    column   line                                   charindex  \\\n",
       "0  -1                       1      2                                            \n",
       "\n",
       "                                            charname  \\\n",
       "0  SZUSZANA_(13)                                 ...   \n",
       "\n",
       "              transliteration transliteration_2  \n",
       "0  1/3(disz)                                NaN  "
      ]
     },
     "execution_count": 2,
     "metadata": {},
     "output_type": "execute_result"
    }
   ],
   "source": [
    "import numpy as np \n",
    "import pandas as pd\n",
    "\n",
    "metadata_path = os.path.join(parent_dir, \"Cuneiform Tests\", \"MaiCuBeDa\", \"dataverse_files\", \"translitmetadata(in).csv\")\n",
    "\n",
    "csv = pd.read_csv(metadata_path, sep=\";\", encoding=\"utf-8\")\n",
    "df_metadata = pd.DataFrame(csv)\n",
    "# from columns, remove whitespaces\n",
    "df_metadata.columns = df_metadata.columns.str.strip()\n",
    "\n",
    "df_metadata.head(1)"
   ]
  },
  {
   "cell_type": "markdown",
   "metadata": {},
   "source": [
    "#### Fixing Dataframe indexing\n",
    "after adding column \"transliteration_2\" for consistent col count, appending its content to \"transliteration\" and dropping it\n"
   ]
  },
  {
   "cell_type": "code",
   "execution_count": 3,
   "metadata": {},
   "outputs": [
    {
     "name": "stdout",
     "output_type": "stream",
     "text": [
      "Cols with transliteration_2:\t 51 \n",
      " Operations performed:\t\t 51 \n",
      " Success:\t\t\t True\n"
     ]
    },
    {
     "data": {
      "text/plain": [
       "'ARAD2_(ARADKUR), arad2'"
      ]
     },
     "execution_count": 3,
     "metadata": {},
     "output_type": "execute_result"
    }
   ],
   "source": [
    "# count all entries of \"transliteration_2\" that are not empty\n",
    "count = df_metadata[\"transliteration_2\"].count()\n",
    "\n",
    "# for each row check if column \"translatitertion_2\" is empty,\n",
    "# otherwise, append string-content of column to \"translatitertion\"\n",
    "test = 0\n",
    "for index, row in df_metadata.iterrows():\n",
    "    # remove whitespace at end of transliteration string\n",
    "    transl = row[\"transliteration\"].strip()\n",
    "    transl2 = row[\"transliteration_2\"]\n",
    "    if pd.notnull(transl2):\n",
    "        # new string is concatenation of transliteration and transliteration_2\n",
    "        row[\"transliteration\"] = transl + \", \" + transl2\n",
    "        #print(row)\n",
    "        test += 1\n",
    "print(\"Cols with transliteration_2:\\t\", count, \"\\n\", \"Operations performed:\\t\\t\", test, \"\\n\", \"Success:\\t\\t\\t\", count == test)\n",
    "\n",
    "if count == test:\n",
    "    # drop column \"transliteration_2\"\n",
    "    df_metadata = df_metadata.drop(columns=[\"transliteration_2\"])\n",
    "\n",
    "# get the 22077th entry from metadata\n",
    "df_metadata[\"transliteration\"].loc[22068]\n"
   ]
  },
  {
   "cell_type": "markdown",
   "metadata": {},
   "source": [
    "#### Dataframe Creation - Images"
   ]
  },
  {
   "cell_type": "code",
   "execution_count": 4,
   "metadata": {},
   "outputs": [
    {
     "name": "stdout",
     "output_type": "stream",
     "text": [
      "27698\n"
     ]
    },
    {
     "data": {
      "text/html": [
       "<div>\n",
       "<style scoped>\n",
       "    .dataframe tbody tr th:only-of-type {\n",
       "        vertical-align: middle;\n",
       "    }\n",
       "\n",
       "    .dataframe tbody tr th {\n",
       "        vertical-align: top;\n",
       "    }\n",
       "\n",
       "    .dataframe thead th {\n",
       "        text-align: right;\n",
       "    }\n",
       "</style>\n",
       "<table border=\"1\" class=\"dataframe\">\n",
       "  <thead>\n",
       "    <tr style=\"text-align: right;\">\n",
       "      <th></th>\n",
       "      <th>filename</th>\n",
       "    </tr>\n",
       "  </thead>\n",
       "  <tbody>\n",
       "    <tr>\n",
       "      <th>0</th>\n",
       "      <td>u3_1_3_1_HS_294_03_front.png</td>\n",
       "    </tr>\n",
       "  </tbody>\n",
       "</table>\n",
       "</div>"
      ],
      "text/plain": [
       "                       filename\n",
       "0  u3_1_3_1_HS_294_03_front.png"
      ]
     },
     "execution_count": 4,
     "metadata": {},
     "output_type": "execute_result"
    }
   ],
   "source": [
    "images = os.listdir(image_folder)\n",
    "print(len(images))\n",
    "df_images = pd.DataFrame(images, columns=[\"filename\"])\n",
    "df_images.head(1)"
   ]
  },
  {
   "cell_type": "markdown",
   "metadata": {},
   "source": [
    "#### Extract corresponding Char literal from image name\n",
    "Problem: Some numbered cunei chars are given in format numeral_numeral(char) and have to be combined into the fitting description numeral/numeral(char) to match their exact transliteration in metadata.\n",
    "\n",
    "*e.g. \"1/3(asz@c)\" in \"1_3(asz@c)_1_-1_-1_HS_793_06_back.png\"*"
   ]
  },
  {
   "cell_type": "code",
   "execution_count": 5,
   "metadata": {},
   "outputs": [
    {
     "name": "stdout",
     "output_type": "stream",
     "text": [
      "No. of removed rows:\t 39\n"
     ]
    }
   ],
   "source": [
    "# create new column \"char\" in df_images from filenames\n",
    "df_images[\"char\"] = df_images[\"filename\"].str.split(\"_\")\n",
    "\n",
    "size_before = df_images.filename.size\n",
    "\n",
    "for index, row in df_images.iterrows():\n",
    "    # if first elem is a number than merge with second elem\n",
    "    if row[\"char\"][0].isdigit():\n",
    "        # keep only transliteration (elem 1-2)\n",
    "        df_images.at[index, \"char\"] = row[\"char\"][0] + \"-\" + row[\"char\"][1]\n",
    "    else:\n",
    "        df_images.at[index, \"char\"] = row[\"char\"][0]\n",
    "    # files not containing a transliteration are not needed:\n",
    "    if row[\"char\"][0] == \"\":\n",
    "        df_images = df_images.drop(index)\n",
    "\n",
    "size_after = df_images.filename.size\n",
    "print(\"No. of removed rows:\\t\", size_before - size_after)\n",
    "\n",
    "\n",
    "#df_images.loc[0]\n",
    "# get the row where filename is \"1_3(asz@c)_1_-1_-1_HS_793_06_back.png\" --> df_image.loc[5178]"
   ]
  },
  {
   "cell_type": "code",
   "execution_count": 6,
   "metadata": {},
   "outputs": [
    {
     "name": "stdout",
     "output_type": "stream",
     "text": [
      "No. of rows with 'char':\t 27659\n"
     ]
    }
   ],
   "source": [
    "# save dataframe to csv if not yet existing\n",
    "df_images.to_csv(\"df_images.csv\", sep=\";\", encoding=\"utf-8\")\n",
    "\n",
    "# count cols\n",
    "count = df_images[\"char\"].count()\n",
    "print(\"No. of rows with 'char':\\t\", count)"
   ]
  },
  {
   "cell_type": "code",
   "execution_count": 7,
   "metadata": {},
   "outputs": [
    {
     "data": {
      "text/plain": [
       "'\\n# count all images in df_images\\nimgset_before = df_images[\"char\"]\\n\\n# for each image in df_images, copy image to imgset folder and rename it to corresponding char\\nfor index, row in df_images.iterrows():\\n    filename = row[\"filename\"]\\n    char = row[\"char\"]\\n    img_path = os.path.join(image_folder, filename)\\n    img_new_path = os.path.join(imgset_path, char + \".png\")\\n    # if image has transparent areas, skip\\n    if np.array_equal(np.array([0, 0, 0, 0]), np.array([0, 0, 0, 0])):\\n        continue\\n    # copy image to new folder\\n    os.system(\"cp \" + img_path + \" \" + img_new_path)\\n\\n\\n\\n# count all images in imgset folder\\nimgset_after = os.listdir(imgset_path)\\nprint(\"No. of removed images:\\t\", len(imgset_before) - len(imgset_after))\\n\\n'"
      ]
     },
     "execution_count": 7,
     "metadata": {},
     "output_type": "execute_result"
    }
   ],
   "source": [
    "'''\n",
    "# count all images in df_images\n",
    "imgset_before = df_images[\"char\"]\n",
    "\n",
    "# for each image in df_images, copy image to imgset folder and rename it to corresponding char\n",
    "for index, row in df_images.iterrows():\n",
    "    filename = row[\"filename\"]\n",
    "    char = row[\"char\"]\n",
    "    img_path = os.path.join(image_folder, filename)\n",
    "    img_new_path = os.path.join(imgset_path, char + \".png\")\n",
    "    # if image has transparent areas, skip\n",
    "    if np.array_equal(np.array([0, 0, 0, 0]), np.array([0, 0, 0, 0])):\n",
    "        continue\n",
    "    # copy image to new folder\n",
    "    os.system(\"cp \" + img_path + \" \" + img_new_path)\n",
    "\n",
    "\n",
    "\n",
    "# count all images in imgset folder\n",
    "imgset_after = os.listdir(imgset_path)\n",
    "print(\"No. of removed images:\\t\", len(imgset_before) - len(imgset_after))\n",
    "\n",
    "'''"
   ]
  },
  {
   "cell_type": "markdown",
   "metadata": {},
   "source": [
    "#### Get number of unique chars to define output classes"
   ]
  },
  {
   "cell_type": "code",
   "execution_count": 8,
   "metadata": {},
   "outputs": [
    {
     "name": "stdout",
     "output_type": "stream",
     "text": [
      "907\n"
     ]
    }
   ],
   "source": [
    "# number of unique characters in df_images['char']\n",
    "unique_chars = df_images[\"char\"].nunique()\n",
    "print(unique_chars)"
   ]
  },
  {
   "cell_type": "markdown",
   "metadata": {},
   "source": [
    "## Train CNN"
   ]
  },
  {
   "cell_type": "code",
   "execution_count": 9,
   "metadata": {},
   "outputs": [
    {
     "name": "stderr",
     "output_type": "stream",
     "text": [
      "/Library/Python/3.9/site-packages/urllib3/__init__.py:34: NotOpenSSLWarning: urllib3 v2.0 only supports OpenSSL 1.1.1+, currently the 'ssl' module is compiled with 'LibreSSL 2.8.3'. See: https://github.com/urllib3/urllib3/issues/3020\n",
      "  warnings.warn(\n"
     ]
    },
    {
     "ename": "KeyboardInterrupt",
     "evalue": "",
     "output_type": "error",
     "traceback": [
      "\u001b[0;31m---------------------------------------------------------------------------\u001b[0m",
      "\u001b[0;31mKeyboardInterrupt\u001b[0m                         Traceback (most recent call last)",
      "Cell \u001b[0;32mIn[9], line 16\u001b[0m\n\u001b[1;32m     13\u001b[0m image_size \u001b[38;5;241m=\u001b[39m \u001b[38;5;241m50\u001b[39m\n\u001b[1;32m     15\u001b[0m \u001b[38;5;66;03m# Load the images\u001b[39;00m\n\u001b[0;32m---> 16\u001b[0m images \u001b[38;5;241m=\u001b[39m np\u001b[38;5;241m.\u001b[39marray([img_to_array(load_img(image_folder\u001b[38;5;241m+\u001b[39m\u001b[38;5;124m\"\u001b[39m\u001b[38;5;124m/\u001b[39m\u001b[38;5;124m\"\u001b[39m\u001b[38;5;241m+\u001b[39mimg_path, target_size\u001b[38;5;241m=\u001b[39m(image_size, image_size), color_mode\u001b[38;5;241m=\u001b[39m\u001b[38;5;124m'\u001b[39m\u001b[38;5;124mgrayscale\u001b[39m\u001b[38;5;124m'\u001b[39m)) \u001b[38;5;28;01mfor\u001b[39;00m img_path \u001b[38;5;129;01min\u001b[39;00m df_images\u001b[38;5;241m.\u001b[39miloc[:, \u001b[38;5;241m0\u001b[39m]])\n\u001b[1;32m     18\u001b[0m \u001b[38;5;66;03m# Reshape the images\u001b[39;00m\n\u001b[1;32m     19\u001b[0m images \u001b[38;5;241m=\u001b[39m images\u001b[38;5;241m.\u001b[39mreshape(\u001b[38;5;241m-\u001b[39m\u001b[38;5;241m1\u001b[39m, image_size, image_size, \u001b[38;5;241m1\u001b[39m)\n",
      "Cell \u001b[0;32mIn[9], line 16\u001b[0m, in \u001b[0;36m<listcomp>\u001b[0;34m(.0)\u001b[0m\n\u001b[1;32m     13\u001b[0m image_size \u001b[38;5;241m=\u001b[39m \u001b[38;5;241m50\u001b[39m\n\u001b[1;32m     15\u001b[0m \u001b[38;5;66;03m# Load the images\u001b[39;00m\n\u001b[0;32m---> 16\u001b[0m images \u001b[38;5;241m=\u001b[39m np\u001b[38;5;241m.\u001b[39marray([img_to_array(\u001b[43mload_img\u001b[49m\u001b[43m(\u001b[49m\u001b[43mimage_folder\u001b[49m\u001b[38;5;241;43m+\u001b[39;49m\u001b[38;5;124;43m\"\u001b[39;49m\u001b[38;5;124;43m/\u001b[39;49m\u001b[38;5;124;43m\"\u001b[39;49m\u001b[38;5;241;43m+\u001b[39;49m\u001b[43mimg_path\u001b[49m\u001b[43m,\u001b[49m\u001b[43m \u001b[49m\u001b[43mtarget_size\u001b[49m\u001b[38;5;241;43m=\u001b[39;49m\u001b[43m(\u001b[49m\u001b[43mimage_size\u001b[49m\u001b[43m,\u001b[49m\u001b[43m \u001b[49m\u001b[43mimage_size\u001b[49m\u001b[43m)\u001b[49m\u001b[43m,\u001b[49m\u001b[43m \u001b[49m\u001b[43mcolor_mode\u001b[49m\u001b[38;5;241;43m=\u001b[39;49m\u001b[38;5;124;43m'\u001b[39;49m\u001b[38;5;124;43mgrayscale\u001b[39;49m\u001b[38;5;124;43m'\u001b[39;49m\u001b[43m)\u001b[49m) \u001b[38;5;28;01mfor\u001b[39;00m img_path \u001b[38;5;129;01min\u001b[39;00m df_images\u001b[38;5;241m.\u001b[39miloc[:, \u001b[38;5;241m0\u001b[39m]])\n\u001b[1;32m     18\u001b[0m \u001b[38;5;66;03m# Reshape the images\u001b[39;00m\n\u001b[1;32m     19\u001b[0m images \u001b[38;5;241m=\u001b[39m images\u001b[38;5;241m.\u001b[39mreshape(\u001b[38;5;241m-\u001b[39m\u001b[38;5;241m1\u001b[39m, image_size, image_size, \u001b[38;5;241m1\u001b[39m)\n",
      "File \u001b[0;32m~/Library/Python/3.9/lib/python/site-packages/keras/src/utils/image_utils.py:246\u001b[0m, in \u001b[0;36mload_img\u001b[0;34m(path, color_mode, target_size, interpolation, keep_aspect_ratio)\u001b[0m\n\u001b[1;32m    242\u001b[0m \u001b[38;5;28;01mif\u001b[39;00m color_mode \u001b[38;5;241m==\u001b[39m \u001b[38;5;124m\"\u001b[39m\u001b[38;5;124mgrayscale\u001b[39m\u001b[38;5;124m\"\u001b[39m:\n\u001b[1;32m    243\u001b[0m     \u001b[38;5;66;03m# if image is not already an 8-bit, 16-bit or 32-bit grayscale image\u001b[39;00m\n\u001b[1;32m    244\u001b[0m     \u001b[38;5;66;03m# convert it to an 8-bit grayscale image.\u001b[39;00m\n\u001b[1;32m    245\u001b[0m     \u001b[38;5;28;01mif\u001b[39;00m img\u001b[38;5;241m.\u001b[39mmode \u001b[38;5;129;01mnot\u001b[39;00m \u001b[38;5;129;01min\u001b[39;00m (\u001b[38;5;124m\"\u001b[39m\u001b[38;5;124mL\u001b[39m\u001b[38;5;124m\"\u001b[39m, \u001b[38;5;124m\"\u001b[39m\u001b[38;5;124mI;16\u001b[39m\u001b[38;5;124m\"\u001b[39m, \u001b[38;5;124m\"\u001b[39m\u001b[38;5;124mI\u001b[39m\u001b[38;5;124m\"\u001b[39m):\n\u001b[0;32m--> 246\u001b[0m         img \u001b[38;5;241m=\u001b[39m \u001b[43mimg\u001b[49m\u001b[38;5;241;43m.\u001b[39;49m\u001b[43mconvert\u001b[49m\u001b[43m(\u001b[49m\u001b[38;5;124;43m\"\u001b[39;49m\u001b[38;5;124;43mL\u001b[39;49m\u001b[38;5;124;43m\"\u001b[39;49m\u001b[43m)\u001b[49m\n\u001b[1;32m    247\u001b[0m \u001b[38;5;28;01melif\u001b[39;00m color_mode \u001b[38;5;241m==\u001b[39m \u001b[38;5;124m\"\u001b[39m\u001b[38;5;124mrgba\u001b[39m\u001b[38;5;124m\"\u001b[39m:\n\u001b[1;32m    248\u001b[0m     \u001b[38;5;28;01mif\u001b[39;00m img\u001b[38;5;241m.\u001b[39mmode \u001b[38;5;241m!=\u001b[39m \u001b[38;5;124m\"\u001b[39m\u001b[38;5;124mRGBA\u001b[39m\u001b[38;5;124m\"\u001b[39m:\n",
      "File \u001b[0;32m/Library/Python/3.9/site-packages/PIL/Image.py:916\u001b[0m, in \u001b[0;36mImage.convert\u001b[0;34m(self, mode, matrix, dither, palette, colors)\u001b[0m\n\u001b[1;32m    868\u001b[0m \u001b[38;5;28;01mdef\u001b[39;00m \u001b[38;5;21mconvert\u001b[39m(\n\u001b[1;32m    869\u001b[0m     \u001b[38;5;28mself\u001b[39m, mode\u001b[38;5;241m=\u001b[39m\u001b[38;5;28;01mNone\u001b[39;00m, matrix\u001b[38;5;241m=\u001b[39m\u001b[38;5;28;01mNone\u001b[39;00m, dither\u001b[38;5;241m=\u001b[39m\u001b[38;5;28;01mNone\u001b[39;00m, palette\u001b[38;5;241m=\u001b[39mPalette\u001b[38;5;241m.\u001b[39mWEB, colors\u001b[38;5;241m=\u001b[39m\u001b[38;5;241m256\u001b[39m\n\u001b[1;32m    870\u001b[0m ):\n\u001b[1;32m    871\u001b[0m \u001b[38;5;250m    \u001b[39m\u001b[38;5;124;03m\"\"\"\u001b[39;00m\n\u001b[1;32m    872\u001b[0m \u001b[38;5;124;03m    Returns a converted copy of this image. For the \"P\" mode, this\u001b[39;00m\n\u001b[1;32m    873\u001b[0m \u001b[38;5;124;03m    method translates pixels through the palette.  If mode is\u001b[39;00m\n\u001b[0;32m   (...)\u001b[0m\n\u001b[1;32m    913\u001b[0m \u001b[38;5;124;03m    :returns: An :py:class:`~PIL.Image.Image` object.\u001b[39;00m\n\u001b[1;32m    914\u001b[0m \u001b[38;5;124;03m    \"\"\"\u001b[39;00m\n\u001b[0;32m--> 916\u001b[0m     \u001b[38;5;28;43mself\u001b[39;49m\u001b[38;5;241;43m.\u001b[39;49m\u001b[43mload\u001b[49m\u001b[43m(\u001b[49m\u001b[43m)\u001b[49m\n\u001b[1;32m    918\u001b[0m     has_transparency \u001b[38;5;241m=\u001b[39m \u001b[38;5;124m\"\u001b[39m\u001b[38;5;124mtransparency\u001b[39m\u001b[38;5;124m\"\u001b[39m \u001b[38;5;129;01min\u001b[39;00m \u001b[38;5;28mself\u001b[39m\u001b[38;5;241m.\u001b[39minfo\n\u001b[1;32m    919\u001b[0m     \u001b[38;5;28;01mif\u001b[39;00m \u001b[38;5;129;01mnot\u001b[39;00m mode \u001b[38;5;129;01mand\u001b[39;00m \u001b[38;5;28mself\u001b[39m\u001b[38;5;241m.\u001b[39mmode \u001b[38;5;241m==\u001b[39m \u001b[38;5;124m\"\u001b[39m\u001b[38;5;124mP\u001b[39m\u001b[38;5;124m\"\u001b[39m:\n\u001b[1;32m    920\u001b[0m         \u001b[38;5;66;03m# determine default mode\u001b[39;00m\n",
      "File \u001b[0;32m/Library/Python/3.9/site-packages/PIL/ImageFile.py:269\u001b[0m, in \u001b[0;36mImageFile.load\u001b[0;34m(self)\u001b[0m\n\u001b[1;32m    266\u001b[0m         \u001b[38;5;28;01mraise\u001b[39;00m \u001b[38;5;167;01mOSError\u001b[39;00m(msg)\n\u001b[1;32m    268\u001b[0m b \u001b[38;5;241m=\u001b[39m b \u001b[38;5;241m+\u001b[39m s\n\u001b[0;32m--> 269\u001b[0m n, err_code \u001b[38;5;241m=\u001b[39m \u001b[43mdecoder\u001b[49m\u001b[38;5;241;43m.\u001b[39;49m\u001b[43mdecode\u001b[49m\u001b[43m(\u001b[49m\u001b[43mb\u001b[49m\u001b[43m)\u001b[49m\n\u001b[1;32m    270\u001b[0m \u001b[38;5;28;01mif\u001b[39;00m n \u001b[38;5;241m<\u001b[39m \u001b[38;5;241m0\u001b[39m:\n\u001b[1;32m    271\u001b[0m     \u001b[38;5;28;01mbreak\u001b[39;00m\n",
      "\u001b[0;31mKeyboardInterrupt\u001b[0m: "
     ]
    }
   ],
   "source": [
    "from keras.models import Sequential\n",
    "from keras.layers import Dense, Conv2D, Flatten\n",
    "from keras.preprocessing.image import load_img, img_to_array\n",
    "from sklearn.preprocessing import LabelEncoder\n",
    "import numpy as np\n",
    "from tensorflow.keras.models import Sequential\n",
    "\n",
    "import gc\n",
    "\n",
    "# run gc.collect() to free up memory\n",
    "gc.collect()\n",
    "\n",
    "image_size = 50\n",
    "\n",
    "# Load the images\n",
    "images = np.array([img_to_array(load_img(image_folder+\"/\"+img_path, target_size=(image_size, image_size), color_mode='grayscale')) for img_path in df_images.iloc[:, 0]])\n",
    "\n",
    "# Reshape the images\n",
    "images = images.reshape(-1, image_size, image_size, 1)\n",
    "\n",
    "# Create a Sequential model\n",
    "model = Sequential()\n",
    "\n",
    "# Add a Conv2D layer with 32 filters, a 3x3 kernel, and 'relu' activation function\n",
    "model.add(Conv2D(32, kernel_size=3, activation='relu', input_shape=(image_size, image_size, 1)))\n",
    "\n",
    "# Add another Conv2D layer with 64 filters and a 3x3 kernel\n",
    "model.add(Conv2D(64, kernel_size=3, activation='relu'))\n",
    "\n",
    "# Flatten the tensor output from the previous layer\n",
    "model.add(Flatten())\n",
    "\n",
    "# Add a Dense layer with 128 units and 'relu' activation function\n",
    "model.add(Dense(1500, activation='relu'))\n",
    "\n",
    "# Add an output Dense layer with 918 units (for all unique labels)\n",
    "# softmax activation function is used for multi-class classification\n",
    "model.add(Dense(unique_chars, activation='softmax'))\n",
    "\n",
    "# Compile the model\n",
    "# sparse_categorical_crossentropy --> classes > 2\n",
    "# \"adam\" optimizer --> the best learning rate or 'sgd' (stoch. gradient descent)\n",
    "model.compile(optimizer='adam', loss='sparse_categorical_crossentropy', metrics=['accuracy'])\n",
    "\n",
    "# Convert char-labels to integers for training\n",
    "le = LabelEncoder()\n",
    "labels = le.fit_transform(df_images.iloc[:, 1])"
   ]
  },
  {
   "cell_type": "code",
   "execution_count": null,
   "metadata": {},
   "outputs": [
    {
     "ename": "ValueError",
     "evalue": "The least populated class in y has only 1 member, which is too few. The minimum number of groups for any class cannot be less than 2.",
     "output_type": "error",
     "traceback": [
      "\u001b[0;31m---------------------------------------------------------------------------\u001b[0m",
      "\u001b[0;31mValueError\u001b[0m                                Traceback (most recent call last)",
      "Cell \u001b[0;32mIn[25], line 8\u001b[0m\n\u001b[1;32m      5\u001b[0m sss \u001b[38;5;241m=\u001b[39m StratifiedShuffleSplit(n_splits\u001b[38;5;241m=\u001b[39m\u001b[38;5;241m3\u001b[39m, test_size\u001b[38;5;241m=\u001b[39m\u001b[38;5;241m0.2\u001b[39m, random_state\u001b[38;5;241m=\u001b[39m\u001b[38;5;241m0\u001b[39m)\n\u001b[1;32m      7\u001b[0m \u001b[38;5;66;03m# Get the training and testing indices\u001b[39;00m\n\u001b[0;32m----> 8\u001b[0m train_index, test_index \u001b[38;5;241m=\u001b[39m \u001b[38;5;28;43mnext\u001b[39;49m\u001b[43m(\u001b[49m\u001b[43msss\u001b[49m\u001b[38;5;241;43m.\u001b[39;49m\u001b[43msplit\u001b[49m\u001b[43m(\u001b[49m\u001b[43mimages\u001b[49m\u001b[43m,\u001b[49m\u001b[43m \u001b[49m\u001b[43mlabels\u001b[49m\u001b[43m)\u001b[49m\u001b[43m)\u001b[49m\n",
      "File \u001b[0;32m~/Library/Python/3.9/lib/python/site-packages/sklearn/model_selection/_split.py:1749\u001b[0m, in \u001b[0;36mBaseShuffleSplit.split\u001b[0;34m(self, X, y, groups)\u001b[0m\n\u001b[1;32m   1719\u001b[0m \u001b[38;5;250m\u001b[39m\u001b[38;5;124;03m\"\"\"Generate indices to split data into training and test set.\u001b[39;00m\n\u001b[1;32m   1720\u001b[0m \n\u001b[1;32m   1721\u001b[0m \u001b[38;5;124;03mParameters\u001b[39;00m\n\u001b[0;32m   (...)\u001b[0m\n\u001b[1;32m   1746\u001b[0m \u001b[38;5;124;03mto an integer.\u001b[39;00m\n\u001b[1;32m   1747\u001b[0m \u001b[38;5;124;03m\"\"\"\u001b[39;00m\n\u001b[1;32m   1748\u001b[0m X, y, groups \u001b[38;5;241m=\u001b[39m indexable(X, y, groups)\n\u001b[0;32m-> 1749\u001b[0m \u001b[38;5;28;01mfor\u001b[39;00m train, test \u001b[38;5;129;01min\u001b[39;00m \u001b[38;5;28mself\u001b[39m\u001b[38;5;241m.\u001b[39m_iter_indices(X, y, groups):\n\u001b[1;32m   1750\u001b[0m     \u001b[38;5;28;01myield\u001b[39;00m train, test\n",
      "File \u001b[0;32m~/Library/Python/3.9/lib/python/site-packages/sklearn/model_selection/_split.py:2150\u001b[0m, in \u001b[0;36mStratifiedShuffleSplit._iter_indices\u001b[0;34m(self, X, y, groups)\u001b[0m\n\u001b[1;32m   2148\u001b[0m class_counts \u001b[38;5;241m=\u001b[39m np\u001b[38;5;241m.\u001b[39mbincount(y_indices)\n\u001b[1;32m   2149\u001b[0m \u001b[38;5;28;01mif\u001b[39;00m np\u001b[38;5;241m.\u001b[39mmin(class_counts) \u001b[38;5;241m<\u001b[39m \u001b[38;5;241m2\u001b[39m:\n\u001b[0;32m-> 2150\u001b[0m     \u001b[38;5;28;01mraise\u001b[39;00m \u001b[38;5;167;01mValueError\u001b[39;00m(\n\u001b[1;32m   2151\u001b[0m         \u001b[38;5;124m\"\u001b[39m\u001b[38;5;124mThe least populated class in y has only 1\u001b[39m\u001b[38;5;124m\"\u001b[39m\n\u001b[1;32m   2152\u001b[0m         \u001b[38;5;124m\"\u001b[39m\u001b[38;5;124m member, which is too few. The minimum\u001b[39m\u001b[38;5;124m\"\u001b[39m\n\u001b[1;32m   2153\u001b[0m         \u001b[38;5;124m\"\u001b[39m\u001b[38;5;124m number of groups for any class cannot\u001b[39m\u001b[38;5;124m\"\u001b[39m\n\u001b[1;32m   2154\u001b[0m         \u001b[38;5;124m\"\u001b[39m\u001b[38;5;124m be less than 2.\u001b[39m\u001b[38;5;124m\"\u001b[39m\n\u001b[1;32m   2155\u001b[0m     )\n\u001b[1;32m   2157\u001b[0m \u001b[38;5;28;01mif\u001b[39;00m n_train \u001b[38;5;241m<\u001b[39m n_classes:\n\u001b[1;32m   2158\u001b[0m     \u001b[38;5;28;01mraise\u001b[39;00m \u001b[38;5;167;01mValueError\u001b[39;00m(\n\u001b[1;32m   2159\u001b[0m         \u001b[38;5;124m\"\u001b[39m\u001b[38;5;124mThe train_size = \u001b[39m\u001b[38;5;132;01m%d\u001b[39;00m\u001b[38;5;124m should be greater or \u001b[39m\u001b[38;5;124m\"\u001b[39m\n\u001b[1;32m   2160\u001b[0m         \u001b[38;5;124m\"\u001b[39m\u001b[38;5;124mequal to the number of classes = \u001b[39m\u001b[38;5;132;01m%d\u001b[39;00m\u001b[38;5;124m\"\u001b[39m \u001b[38;5;241m%\u001b[39m (n_train, n_classes)\n\u001b[1;32m   2161\u001b[0m     )\n",
      "\u001b[0;31mValueError\u001b[0m: The least populated class in y has only 1 member, which is too few. The minimum number of groups for any class cannot be less than 2."
     ]
    }
   ],
   "source": [
    "# use StratifiedShuffleSplit to split the data into training and testing sets\n",
    "from sklearn.model_selection import StratifiedShuffleSplit\n",
    "\n",
    "# Split the data into training and testing sets\n",
    "sss = StratifiedShuffleSplit(n_splits=3, test_size=0.2, random_state=0)\n",
    "\n",
    "# Get the training and testing indices\n",
    "train_index, test_index = next(sss.split(images, labels))"
   ]
  },
  {
   "cell_type": "code",
   "execution_count": null,
   "metadata": {},
   "outputs": [
    {
     "name": "stdout",
     "output_type": "stream",
     "text": [
      "Epoch 1/10\n",
      "\u001b[1m692/692\u001b[0m \u001b[32m━━━━━━━━━━━━━━━━━━━━\u001b[0m\u001b[37m\u001b[0m \u001b[1m982s\u001b[0m 1s/step - accuracy: 0.1070 - loss: 99.2691 - val_accuracy: 0.2072 - val_loss: 4.4733\n",
      "Epoch 2/10\n",
      "\u001b[1m692/692\u001b[0m \u001b[32m━━━━━━━━━━━━━━━━━━━━\u001b[0m\u001b[37m\u001b[0m \u001b[1m829s\u001b[0m 1s/step - accuracy: 0.3362 - loss: 3.4787 - val_accuracy: 0.2545 - val_loss: 4.3176\n",
      "Epoch 3/10\n",
      "\u001b[1m692/692\u001b[0m \u001b[32m━━━━━━━━━━━━━━━━━━━━\u001b[0m\u001b[37m\u001b[0m \u001b[1m582s\u001b[0m 841ms/step - accuracy: 0.6504 - loss: 1.6919 - val_accuracy: 0.2402 - val_loss: 5.6107\n",
      "Epoch 4/10\n",
      "\u001b[1m692/692\u001b[0m \u001b[32m━━━━━━━━━━━━━━━━━━━━\u001b[0m\u001b[37m\u001b[0m \u001b[1m632s\u001b[0m 914ms/step - accuracy: 0.9046 - loss: 0.4532 - val_accuracy: 0.2157 - val_loss: 6.2976\n",
      "Epoch 5/10\n",
      "\u001b[1m692/692\u001b[0m \u001b[32m━━━━━━━━━━━━━━━━━━━━\u001b[0m\u001b[37m\u001b[0m \u001b[1m8008s\u001b[0m 12s/step - accuracy: 0.9754 - loss: 0.1156 - val_accuracy: 0.2223 - val_loss: 7.1869\n",
      "Epoch 6/10\n",
      "\u001b[1m692/692\u001b[0m \u001b[32m━━━━━━━━━━━━━━━━━━━━\u001b[0m\u001b[37m\u001b[0m \u001b[1m568s\u001b[0m 820ms/step - accuracy: 0.9906 - loss: 0.0477 - val_accuracy: 0.2090 - val_loss: 8.1324\n",
      "Epoch 7/10\n",
      "\u001b[1m692/692\u001b[0m \u001b[32m━━━━━━━━━━━━━━━━━━━━\u001b[0m\u001b[37m\u001b[0m \u001b[1m552s\u001b[0m 797ms/step - accuracy: 0.9903 - loss: 0.0549 - val_accuracy: 0.2171 - val_loss: 10.0520\n",
      "Epoch 8/10\n",
      "\u001b[1m692/692\u001b[0m \u001b[32m━━━━━━━━━━━━━━━━━━━━\u001b[0m\u001b[37m\u001b[0m \u001b[1m571s\u001b[0m 825ms/step - accuracy: 0.9541 - loss: 0.1927 - val_accuracy: 0.2175 - val_loss: 11.2066\n",
      "Epoch 9/10\n",
      "\u001b[1m692/692\u001b[0m \u001b[32m━━━━━━━━━━━━━━━━━━━━\u001b[0m\u001b[37m\u001b[0m \u001b[1m603s\u001b[0m 871ms/step - accuracy: 0.9700 - loss: 0.1212 - val_accuracy: 0.2086 - val_loss: 10.1549\n",
      "Epoch 10/10\n",
      "\u001b[1m692/692\u001b[0m \u001b[32m━━━━━━━━━━━━━━━━━━━━\u001b[0m\u001b[37m\u001b[0m \u001b[1m603s\u001b[0m 871ms/step - accuracy: 0.9818 - loss: 0.0812 - val_accuracy: 0.2211 - val_loss: 12.5505\n"
     ]
    },
    {
     "data": {
      "text/plain": [
       "<keras.src.callbacks.history.History at 0x173fc93d0>"
      ]
     },
     "execution_count": 10,
     "metadata": {},
     "output_type": "execute_result"
    }
   ],
   "source": [
    "# Train the model\n",
    "#model.fit(images, labels, validation_split=0.2, epochs=10, shuffle=True)\n",
    "\n",
    "model.fit(X_train, y_train, validation_data=(X_test, y_test), epochs=10)"
   ]
  },
  {
   "cell_type": "code",
   "execution_count": null,
   "metadata": {},
   "outputs": [
    {
     "data": {
      "text/html": [
       "<pre style=\"white-space:pre;overflow-x:auto;line-height:normal;font-family:Menlo,'DejaVu Sans Mono',consolas,'Courier New',monospace\"><span style=\"font-weight: bold\">Model: \"sequential\"</span>\n",
       "</pre>\n"
      ],
      "text/plain": [
       "\u001b[1mModel: \"sequential\"\u001b[0m\n"
      ]
     },
     "metadata": {},
     "output_type": "display_data"
    },
    {
     "data": {
      "text/html": [
       "<pre style=\"white-space:pre;overflow-x:auto;line-height:normal;font-family:Menlo,'DejaVu Sans Mono',consolas,'Courier New',monospace\">┏━━━━━━━━━━━━━━━━━━━━━━━━━━━━━━━━━┳━━━━━━━━━━━━━━━━━━━━━━━━┳━━━━━━━━━━━━━━━┓\n",
       "┃<span style=\"font-weight: bold\"> Layer (type)                    </span>┃<span style=\"font-weight: bold\"> Output Shape           </span>┃<span style=\"font-weight: bold\">       Param # </span>┃\n",
       "┡━━━━━━━━━━━━━━━━━━━━━━━━━━━━━━━━━╇━━━━━━━━━━━━━━━━━━━━━━━━╇━━━━━━━━━━━━━━━┩\n",
       "│ conv2d (<span style=\"color: #0087ff; text-decoration-color: #0087ff\">Conv2D</span>)                 │ (<span style=\"color: #00d7ff; text-decoration-color: #00d7ff\">None</span>, <span style=\"color: #00af00; text-decoration-color: #00af00\">48</span>, <span style=\"color: #00af00; text-decoration-color: #00af00\">48</span>, <span style=\"color: #00af00; text-decoration-color: #00af00\">32</span>)     │           <span style=\"color: #00af00; text-decoration-color: #00af00\">320</span> │\n",
       "├─────────────────────────────────┼────────────────────────┼───────────────┤\n",
       "│ conv2d_1 (<span style=\"color: #0087ff; text-decoration-color: #0087ff\">Conv2D</span>)               │ (<span style=\"color: #00d7ff; text-decoration-color: #00d7ff\">None</span>, <span style=\"color: #00af00; text-decoration-color: #00af00\">46</span>, <span style=\"color: #00af00; text-decoration-color: #00af00\">46</span>, <span style=\"color: #00af00; text-decoration-color: #00af00\">64</span>)     │        <span style=\"color: #00af00; text-decoration-color: #00af00\">18,496</span> │\n",
       "├─────────────────────────────────┼────────────────────────┼───────────────┤\n",
       "│ flatten (<span style=\"color: #0087ff; text-decoration-color: #0087ff\">Flatten</span>)               │ (<span style=\"color: #00d7ff; text-decoration-color: #00d7ff\">None</span>, <span style=\"color: #00af00; text-decoration-color: #00af00\">135424</span>)         │             <span style=\"color: #00af00; text-decoration-color: #00af00\">0</span> │\n",
       "├─────────────────────────────────┼────────────────────────┼───────────────┤\n",
       "│ dense (<span style=\"color: #0087ff; text-decoration-color: #0087ff\">Dense</span>)                   │ (<span style=\"color: #00d7ff; text-decoration-color: #00d7ff\">None</span>, <span style=\"color: #00af00; text-decoration-color: #00af00\">1500</span>)           │   <span style=\"color: #00af00; text-decoration-color: #00af00\">203,137,500</span> │\n",
       "├─────────────────────────────────┼────────────────────────┼───────────────┤\n",
       "│ dense_1 (<span style=\"color: #0087ff; text-decoration-color: #0087ff\">Dense</span>)                 │ (<span style=\"color: #00d7ff; text-decoration-color: #00d7ff\">None</span>, <span style=\"color: #00af00; text-decoration-color: #00af00\">907</span>)            │     <span style=\"color: #00af00; text-decoration-color: #00af00\">1,361,407</span> │\n",
       "└─────────────────────────────────┴────────────────────────┴───────────────┘\n",
       "</pre>\n"
      ],
      "text/plain": [
       "┏━━━━━━━━━━━━━━━━━━━━━━━━━━━━━━━━━┳━━━━━━━━━━━━━━━━━━━━━━━━┳━━━━━━━━━━━━━━━┓\n",
       "┃\u001b[1m \u001b[0m\u001b[1mLayer (type)                   \u001b[0m\u001b[1m \u001b[0m┃\u001b[1m \u001b[0m\u001b[1mOutput Shape          \u001b[0m\u001b[1m \u001b[0m┃\u001b[1m \u001b[0m\u001b[1m      Param #\u001b[0m\u001b[1m \u001b[0m┃\n",
       "┡━━━━━━━━━━━━━━━━━━━━━━━━━━━━━━━━━╇━━━━━━━━━━━━━━━━━━━━━━━━╇━━━━━━━━━━━━━━━┩\n",
       "│ conv2d (\u001b[38;5;33mConv2D\u001b[0m)                 │ (\u001b[38;5;45mNone\u001b[0m, \u001b[38;5;34m48\u001b[0m, \u001b[38;5;34m48\u001b[0m, \u001b[38;5;34m32\u001b[0m)     │           \u001b[38;5;34m320\u001b[0m │\n",
       "├─────────────────────────────────┼────────────────────────┼───────────────┤\n",
       "│ conv2d_1 (\u001b[38;5;33mConv2D\u001b[0m)               │ (\u001b[38;5;45mNone\u001b[0m, \u001b[38;5;34m46\u001b[0m, \u001b[38;5;34m46\u001b[0m, \u001b[38;5;34m64\u001b[0m)     │        \u001b[38;5;34m18,496\u001b[0m │\n",
       "├─────────────────────────────────┼────────────────────────┼───────────────┤\n",
       "│ flatten (\u001b[38;5;33mFlatten\u001b[0m)               │ (\u001b[38;5;45mNone\u001b[0m, \u001b[38;5;34m135424\u001b[0m)         │             \u001b[38;5;34m0\u001b[0m │\n",
       "├─────────────────────────────────┼────────────────────────┼───────────────┤\n",
       "│ dense (\u001b[38;5;33mDense\u001b[0m)                   │ (\u001b[38;5;45mNone\u001b[0m, \u001b[38;5;34m1500\u001b[0m)           │   \u001b[38;5;34m203,137,500\u001b[0m │\n",
       "├─────────────────────────────────┼────────────────────────┼───────────────┤\n",
       "│ dense_1 (\u001b[38;5;33mDense\u001b[0m)                 │ (\u001b[38;5;45mNone\u001b[0m, \u001b[38;5;34m907\u001b[0m)            │     \u001b[38;5;34m1,361,407\u001b[0m │\n",
       "└─────────────────────────────────┴────────────────────────┴───────────────┘\n"
      ]
     },
     "metadata": {},
     "output_type": "display_data"
    },
    {
     "data": {
      "text/html": [
       "<pre style=\"white-space:pre;overflow-x:auto;line-height:normal;font-family:Menlo,'DejaVu Sans Mono',consolas,'Courier New',monospace\"><span style=\"font-weight: bold\"> Total params: </span><span style=\"color: #00af00; text-decoration-color: #00af00\">613,553,171</span> (2.29 GB)\n",
       "</pre>\n"
      ],
      "text/plain": [
       "\u001b[1m Total params: \u001b[0m\u001b[38;5;34m613,553,171\u001b[0m (2.29 GB)\n"
      ]
     },
     "metadata": {},
     "output_type": "display_data"
    },
    {
     "data": {
      "text/html": [
       "<pre style=\"white-space:pre;overflow-x:auto;line-height:normal;font-family:Menlo,'DejaVu Sans Mono',consolas,'Courier New',monospace\"><span style=\"font-weight: bold\"> Trainable params: </span><span style=\"color: #00af00; text-decoration-color: #00af00\">204,517,723</span> (780.17 MB)\n",
       "</pre>\n"
      ],
      "text/plain": [
       "\u001b[1m Trainable params: \u001b[0m\u001b[38;5;34m204,517,723\u001b[0m (780.17 MB)\n"
      ]
     },
     "metadata": {},
     "output_type": "display_data"
    },
    {
     "data": {
      "text/html": [
       "<pre style=\"white-space:pre;overflow-x:auto;line-height:normal;font-family:Menlo,'DejaVu Sans Mono',consolas,'Courier New',monospace\"><span style=\"font-weight: bold\"> Non-trainable params: </span><span style=\"color: #00af00; text-decoration-color: #00af00\">0</span> (0.00 B)\n",
       "</pre>\n"
      ],
      "text/plain": [
       "\u001b[1m Non-trainable params: \u001b[0m\u001b[38;5;34m0\u001b[0m (0.00 B)\n"
      ]
     },
     "metadata": {},
     "output_type": "display_data"
    },
    {
     "data": {
      "text/html": [
       "<pre style=\"white-space:pre;overflow-x:auto;line-height:normal;font-family:Menlo,'DejaVu Sans Mono',consolas,'Courier New',monospace\"><span style=\"font-weight: bold\"> Optimizer params: </span><span style=\"color: #00af00; text-decoration-color: #00af00\">409,035,448</span> (1.52 GB)\n",
       "</pre>\n"
      ],
      "text/plain": [
       "\u001b[1m Optimizer params: \u001b[0m\u001b[38;5;34m409,035,448\u001b[0m (1.52 GB)\n"
      ]
     },
     "metadata": {},
     "output_type": "display_data"
    },
    {
     "data": {
      "image/png": "[encoded data removed]",
      "text/plain": [
       "<Figure size 640x480 with 1 Axes>"
      ]
     },
     "metadata": {},
     "output_type": "display_data"
    }
   ],
   "source": [
    "import os\n",
    "import matplotlib.pyplot as plt\n",
    "\n",
    "# plt model acc and loss during training\n",
    "\n",
    "plt.plot(model.history.history.get('accuracy'))\n",
    "recall = model.history.history.get('recall')\n",
    "precision = model.history.history.get('precision')\n",
    "f1_score = model.history.history.get('f1_score')\n",
    "fbeta_score = model.history.history.get('fbeta_score')\n",
    "model.summary()\n",
    "'''\n",
    "# save model and created plot with timestamp\n",
    "timestamp = pd.Timestamp.now().strftime(\"%d.%m.%Y_%H:%M:%S\")\n",
    "model_name = model.name\n",
    "plt.savefig(model_name+\"_\"+\"model_acc_\"+timestamp+\".png\")\n",
    "# save model under name \"first_model\" in directory model_outputs\n",
    "model.save('model_outputs/first_'+timestamp+\".keras\")\n",
    "'''\n",
    "\n",
    "# Plot training & validation accuracy values\n",
    "plt.plot(model.history.history['accuracy'])\n",
    "plt.plot(model.history.history['val_accuracy'])\n",
    "plt.title('Model accuracy')\n",
    "plt.ylabel('Accuracy')\n",
    "plt.xlabel('Epoch')\n",
    "plt.legend(['Train', 'Test'], loc='upper left')\n",
    "\n",
    "# save model and created plot with timestamp\n",
    "model_name = model.name\n",
    "timestamp = pd.Timestamp.now().strftime(\"%d.%m.%Y_%H:%M:%S\")\n",
    "model.save('model_outputs/first_'+timestamp+\".keras\")\n",
    "plt.savefig('model_outputs/first_'+timestamp+\"_model_acc.png\")\n",
    "\n",
    "# Plot training & validation accuracy values\n",
    "model_history = pd.DataFrame(model.history.history)\n",
    "model_history.to_csv('model_outputs/first_'+timestamp+\"_history.csv\", index=False)"
   ]
  },
  {
   "cell_type": "code",
   "execution_count": null,
   "metadata": {},
   "outputs": [
    {
     "ename": "NameError",
     "evalue": "name 'folder_path' is not defined",
     "output_type": "error",
     "traceback": [
      "\u001b[0;31m---------------------------------------------------------------------------\u001b[0m",
      "\u001b[0;31mNameError\u001b[0m                                 Traceback (most recent call last)",
      "Cell \u001b[0;32mIn[12], line 5\u001b[0m\n\u001b[1;32m      2\u001b[0m \u001b[38;5;28;01mimport\u001b[39;00m \u001b[38;5;21;01mcv2\u001b[39;00m\n\u001b[1;32m      4\u001b[0m test \u001b[38;5;241m=\u001b[39m df_images[\u001b[38;5;124m\"\u001b[39m\u001b[38;5;124mfilename\u001b[39m\u001b[38;5;124m\"\u001b[39m]\u001b[38;5;241m.\u001b[39mloc[\u001b[38;5;241m5\u001b[39m]\n\u001b[0;32m----> 5\u001b[0m img \u001b[38;5;241m=\u001b[39m cv2\u001b[38;5;241m.\u001b[39mimread(os\u001b[38;5;241m.\u001b[39mpath\u001b[38;5;241m.\u001b[39mjoin(\u001b[43mfolder_path\u001b[49m, test))\n\u001b[1;32m      6\u001b[0m plt\u001b[38;5;241m.\u001b[39mimshow(img)\n",
      "\u001b[0;31mNameError\u001b[0m: name 'folder_path' is not defined"
     ]
    }
   ],
   "source": [
    "from matplotlib import pyplot as plt\n",
    "import cv2\n",
    "\n",
    "test = df_images[\"filename\"].loc[5]\n",
    "img = cv2.imread(os.path.join(folder_path, test))\n",
    "plt.imshow(img)\n"
   ]
  }
 ],
 "metadata": {
  "kernelspec": {
   "display_name": "Python 3",
   "language": "python",
   "name": "python3"
  },
  "language_info": {
   "codemirror_mode": {
    "name": "ipython",
    "version": 3
   },
   "file_extension": ".py",
   "mimetype": "text/x-python",
   "name": "python",
   "nbconvert_exporter": "python",
   "pygments_lexer": "ipython3",
   "version": "3.9.6"
  }
 },
 "nbformat": 4,
 "nbformat_minor": 2
}
