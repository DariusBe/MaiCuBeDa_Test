{
 "cells": [
  {
   "cell_type": "code",
   "execution_count": null,
   "metadata": {},
   "outputs": [],
   "source": [
    "import pandas as pd\n",
    "import os\n",
    "\n",
    "parent_dir = os.path.abspath(os.path.join(os.getcwd(), os.pardir))\n",
    "image_folder = os.path.join(parent_dir, \"Cuneiform Tests\", \"imgset\")\n",
    "\n",
    "# list of all images in the image folder and isolate char from iamge name\n",
    "images = os.listdir(image_folder)\n",
    "# remove any non-image files\n",
    "images = [i for i in images if i.endswith(\".png\")]\n",
    "char = [\"\"] * len(images)\n",
    "for i in range(len(images)):\n",
    "    char[i] = images[i].split(\".\")[0].split(\"_\")[1]"
   ]
  },
  {
   "cell_type": "code",
   "execution_count": null,
   "metadata": {},
   "outputs": [],
   "source": [
    "# create a dataframe with two columns: imagename and char\n",
    "df = pd.DataFrame({'image': images, 'character': char})\n",
    "\n",
    "# save the dataframe to a csv file\n",
    "df.to_csv('imgset.csv', index=False)"
   ]
  },
  {
   "cell_type": "code",
   "execution_count": null,
   "metadata": {},
   "outputs": [],
   "source": [
    "df.head()"
   ]
  },
  {
   "cell_type": "code",
   "execution_count": null,
   "metadata": {},
   "outputs": [],
   "source": [
    "# drop characters with less than 10 images\n",
    "df = df.groupby('character').filter(lambda x: len(x) >= 10)\n",
    "\n",
    "classes = len(df['character'].unique())\n",
    "print(\"Number of classes: \", classes, \"in \", len(df), \" images. Ratio: \", len(df)/classes, \" images per class.\")"
   ]
  },
  {
   "cell_type": "code",
   "execution_count": null,
   "metadata": {},
   "outputs": [],
   "source": [
    "# use a label encoder to convert the characters to integers\n",
    "from sklearn.preprocessing import LabelEncoder\n",
    "\n",
    "le = LabelEncoder()\n",
    "df['label'] = le.fit_transform(df['character'])\n",
    "\n",
    "df.head()"
   ]
  },
  {
   "cell_type": "code",
   "execution_count": null,
   "metadata": {},
   "outputs": [],
   "source": [
    "# use StratifiedShuffleSplit to split the data into training and testing sets\n",
    "\n",
    "from sklearn.model_selection import StratifiedShuffleSplit\n",
    "\n",
    "sss = StratifiedShuffleSplit(n_splits=1, test_size=0.2, random_state=0)\n",
    "for train_index, test_index in sss.split(df['image'], df['character']):\n",
    "    train = df.iloc[train_index]\n",
    "    test = df.iloc[test_index]\n",
    "\n",
    "# create a folder for the training and testing images\n",
    "os.makedirs('imgset/Training_Data', exist_ok=True)\n",
    "os.makedirs('imgset/Testing_Data', exist_ok=True)\n",
    "\n",
    "# create df for training and testing images\n",
    "train.to_csv('imgset/Training_Data/train.csv', index=False)\n",
    "print(\"Training data: \", len(train))\n",
    "test.to_csv('imgset/Testing_Data/test.csv', index=False)\n",
    "print(\"Testing data: \", len(test))\n"
   ]
  },
  {
   "cell_type": "code",
   "execution_count": null,
   "metadata": {},
   "outputs": [],
   "source": [
    "# get pixel width and height of images\n",
    "from PIL import Image\n",
    "\n",
    "img = Image.open(os.path.join(image_folder, images[0]))\n",
    "width, height = img.size\n",
    "print(\"Image size: \", width, \"x\", height)"
   ]
  },
  {
   "cell_type": "code",
   "execution_count": null,
   "metadata": {},
   "outputs": [],
   "source": [
    "# create CNN model using Keras\n",
    "# each image is 250x250 pixels and grayscale\n",
    "\n",
    "from keras.models import Sequential\n",
    "from keras.layers import Conv2D, MaxPooling2D, Flatten, Dense\n",
    "from sklearn.calibration import LabelEncoder\n",
    "\n",
    "# Create the CNN model\n",
    "model = Sequential()\n",
    "\n",
    "# Add convolutional layers\n",
    "model.add(Conv2D(32, (3, 3), activation='relu', input_shape=(50, 50, 1)))\n",
    "model.add(MaxPooling2D((2, 2)))\n",
    "model.add(Conv2D(64, (3, 3), activation='relu'))\n",
    "model.add(MaxPooling2D((2, 2)))\n",
    "model.add(Conv2D(128, (3, 3), activation='relu'))\n",
    "model.add(MaxPooling2D((2, 2)))\n",
    "\n",
    "# Flatten the feature maps\n",
    "model.add(Flatten())\n",
    "\n",
    "# Add fully connected layers\n",
    "# model.add(Dense(256, activation='relu'))\n",
    "\n",
    "\n",
    "model.add(Dense(3500, activation='relu'))\n",
    "model.add(Dense(325, activation='softmax'))"
   ]
  },
  {
   "cell_type": "code",
   "execution_count": null,
   "metadata": {},
   "outputs": [],
   "source": [
    "# Compile the model\n",
    "model.compile(optimizer='adam', loss='categorical_crossentropy', metrics=['accuracy', 'recall', 'precision'])\n",
    "\n",
    "# Print the model summary\n",
    "model.summary()"
   ]
  },
  {
   "cell_type": "code",
   "execution_count": null,
   "metadata": {},
   "outputs": [],
   "source": [
    "# create a generator to load images in batches\n",
    "from tensorflow.keras.preprocessing.image import ImageDataGenerator\n",
    "\n",
    "datagen = ImageDataGenerator(rescale=1./255)\n",
    "\n",
    "train_generator = datagen.flow_from_dataframe(\n",
    "    dataframe=train,\n",
    "    directory=image_folder,\n",
    "    x_col='image',\n",
    "    y_col='character',\n",
    "    target_size=(50, 50),\n",
    "    color_mode='grayscale',\n",
    "    batch_size=5,\n",
    "    class_mode='categorical')\n",
    "\n",
    "test_generator = datagen.flow_from_dataframe(\n",
    "    dataframe=test,\n",
    "    directory=image_folder,\n",
    "    x_col='image',\n",
    "    y_col='character',\n",
    "    target_size=(50, 50),\n",
    "    color_mode='grayscale',\n",
    "    batch_size=5,\n",
    "    class_mode='categorical')"
   ]
  },
  {
   "cell_type": "code",
   "execution_count": null,
   "metadata": {},
   "outputs": [],
   "source": [
    "# Layer Overview:\n",
    "# Conv2D: 32 filters, 3x3 kernel, relu activation, input shape 50x50x1\n",
    "    # used for feature extraction, which means that it extracts the most important features from the input image\n",
    "\n",
    "# MaxPooling2D: 2x2 pool size\n",
    "    # for each 2x2 pixel region, the maximum pixel value is taken: used to reduce the spatial dimensions of the output volume\n",
    "\n",
    "# Flatten: flatten the feature maps\n",
    "    # used to convert the 3D feature maps to 1D feature vectors: used to connect the convolutional layers to the dense layers\n",
    "\n",
    "# Dense: 2 neurons, relu activation\n",
    "    # used for classification: used to connect the flattened feature vectors to the output layer\n",
    "\n",
    "# Dense: 325 neurons, softmax activation\n",
    "    # used for classification: used to output the class probabilities\n"
   ]
  },
  {
   "cell_type": "code",
   "execution_count": null,
   "metadata": {},
   "outputs": [],
   "source": [
    "# train the model, save after each epoch\n",
    "from keras.callbacks import ModelCheckpoint\n",
    "import datetime\n",
    "\n",
    "timestamp = datetime.datetime.now().strftime(\"%d.%m.%Y\")\n",
    "\n",
    "checkpoint = ModelCheckpoint(\"model_outputs/callbacks/\" + timestamp + \".keras\", save_best_only=True)\n",
    "history = model.fit(train_generator, validation_data=test_generator, epochs=10, callbacks=[checkpoint], verbose=1)\n",
    "\n",
    "# save model history as csv\n",
    "history_df = pd.DataFrame(history.history)\n",
    "history_df.to_csv('history_' + timestamp + '.csv', index=False)"
   ]
  },
  {
   "cell_type": "code",
   "execution_count": null,
   "metadata": {},
   "outputs": [],
   "source": [
    "# create dataframe from csv, using first row as header\n",
    "history_df = pd.read_csv('model_outputs/cuneiform_model_history.csv')\n",
    "\n",
    "# plot the training and validation accuracy\n",
    "import matplotlib.pyplot as plt\n",
    "\n",
    "plt.plot(history_df['accuracy'])\n",
    "plt.plot(history_df['val_accuracy'])\n",
    "# add title and labels\n",
    "plt.title('Model accuracy')\n",
    "plt.ylabel('Accuracy')\n",
    "plt.xlabel('Epoch')\n",
    "plt.legend(['Train', 'Validation'], loc='upper left')\n",
    "\n",
    "# save the plot in folder model_outputs\n",
    "plt.savefig('model_outputs/cuneiform_model_history.png')\n"
   ]
  },
  {
   "cell_type": "code",
   "execution_count": null,
   "metadata": {},
   "outputs": [],
   "source": [
    "# test the model\n",
    "#model.evaluate(test_generator)\n",
    "model.evaluate(train_generator)\n",
    "\n",
    "# save the model\n",
    "#model.save('model_outputs/cuneiform_model' + date_time + '.keras')"
   ]
  },
  {
   "cell_type": "code",
   "execution_count": null,
   "metadata": {},
   "outputs": [],
   "source": [
    "# test model with image from folder imgset\n",
    "\n",
    "import numpy as np\n",
    "# predict the character for the first 100 images in folder\n",
    "\n",
    "correct_chars = []\n",
    "\n",
    "# randomly pick 500 images\n",
    "import random\n",
    "random.seed(0)\n",
    "random.shuffle(images)\n",
    "\n",
    "\n",
    "for i in range(500):\n",
    "    img = Image.open(os.path.join(image_folder, images[i]))\n",
    "    img = img.resize((250, 250))\n",
    "    img = img.convert('L') # to grayscale\n",
    "    img = np.array(img)\n",
    "    img = img.reshape(1, 250, 250, 1)\n",
    "    prediction = model.predict(img)\n",
    "    real_char = images[i].split(\".\")[0].split(\"_\")[1]\n",
    "    print('\\nreal character: ', real_char, '\\n' ,'prediction: ' ,le.inverse_transform(np.argmax(prediction, axis=1))[0], '\\n')\n",
    "    if real_char == le.inverse_transform(np.argmax(prediction, axis=1))[0]:\n",
    "        correct_chars.append(images[i])\n",
    "    \n",
    "print(\"Accuracy: \", len(correct_chars)/500)"
   ]
  },
  {
   "cell_type": "code",
   "execution_count": null,
   "metadata": {},
   "outputs": [],
   "source": [
    "print(correct_chars)"
   ]
  },
  {
   "cell_type": "code",
   "execution_count": null,
   "metadata": {},
   "outputs": [],
   "source": []
  }
 ],
 "metadata": {
  "kernelspec": {
   "display_name": "Python 3",
   "language": "python",
   "name": "python3"
  },
  "language_info": {
   "codemirror_mode": {
    "name": "ipython",
    "version": 3
   },
   "file_extension": ".py",
   "mimetype": "text/x-python",
   "name": "python",
   "nbconvert_exporter": "python",
   "pygments_lexer": "ipython3",
   "version": "3.9.6"
  }
 },
 "nbformat": 4,
 "nbformat_minor": 2
}
